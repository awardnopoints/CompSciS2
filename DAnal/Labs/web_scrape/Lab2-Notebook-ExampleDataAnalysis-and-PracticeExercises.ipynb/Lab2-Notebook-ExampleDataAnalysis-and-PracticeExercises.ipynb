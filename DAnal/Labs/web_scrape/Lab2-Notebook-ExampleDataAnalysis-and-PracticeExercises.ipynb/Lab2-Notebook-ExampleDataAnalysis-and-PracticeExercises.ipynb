{
 "cells": [
  {
   "cell_type": "markdown",
   "metadata": {},
   "source": [
    "This Notebook showcases some data analysis done on a text file downloaded from the Web and provides a set of practice exercises."
   ]
  },
  {
   "cell_type": "code",
   "execution_count": 13,
   "metadata": {},
   "outputs": [
    {
     "name": "stdout",
     "output_type": "stream",
     "text": [
      "﻿Project Gutenberg's Alice's Adventures in Wonderland, by Lewis Carroll\r\n",
      "\r\n",
      "This eBook is for the use of anyone anywhere at no cost and with\r\n",
      "almost no restrictions whatsoever.  You may copy it, give it away or\r\n",
      "re-use it under the terms of the Project Gutenberg License included\r\n",
      "with this eBook or online at www.gutenberg.org\r\n",
      "\r\n",
      "\r\n",
      "Title: Alice's Adventures in Wonderland\r\n",
      "\r\n",
      "Author: Lewis Carroll\r\n",
      "\r\n",
      "Posting Date: June 25, 2008 [EBook #11]\r\n",
      "Release Date: March, 1994\r\n",
      "[Last updated: December 20, 2011\n"
     ]
    }
   ],
   "source": [
    "#Get a text file.\n",
    "#Get book \"Alice's Adventures in Wonderland\" from Project Gutenberg, in text format\n",
    "#Store text content to a file named alice.txt\n",
    "import requests\n",
    "import codecs # Force utf8 as the character encoding\n",
    "\n",
    "url='http://www.gutenberg.org/cache/epub/11/pg11.txt'\n",
    "text_page = requests.get(url).text\n",
    "with codecs.open(\"alice.txt\", \"w\", \"utf8\") as file:\n",
    "    file.write(text_page)\n",
    "#Look at the text_page object\n",
    "#?text_page\n",
    "\n",
    "#Look at the first 500 characters of the book\n",
    "print(text_page[:500])"
   ]
  },
  {
   "cell_type": "markdown",
   "metadata": {},
   "source": [
    "# Example of Descriptive Analysis"
   ]
  },
  {
   "cell_type": "code",
   "execution_count": 14,
   "metadata": {},
   "outputs": [
    {
     "name": "stdout",
     "output_type": "stream",
     "text": [
      "Number of chapters:  12\n",
      "Chapter lengths:  [11453, 10989, 9552, 13871, 11986, 13860, 12688, 13656, 12618, 11528, 10380, 30430]\n",
      "Min chapter length:  9552\n",
      "Max chapter length:  30430\n",
      "Avg chapter length:  13584.25\n",
      "Numpy Avg chapter length:  13584.25\n",
      "Deviation from avg chapter length:  5246.15718288\n",
      "Deviation from avg chapter length (%) :  38.6194098525 %\n",
      " I. Down the Rabbit-Hole\n",
      "\n",
      "Alice was beginning to get very tired of sitting by her sister on the\n",
      "bank, and of having nothing to do: once or twice she had peeped into the\n",
      "book her sister was reading, but it had no pictures or conversations in\n",
      "it, 'and what is the use of a book,' thought Alice 'without pictures or\n",
      "conversations?'\n",
      "\n",
      "So she was considering in her own mind (as well as she could, for the\n",
      "hot day made her feel very sleepy and stupid), whether the pleasure\n",
      "of making a daisy-chain would be...\n",
      "\n",
      " II. The Pool of Tears\n",
      "\n",
      "'Curiouser and curiouser!' cried Alice (she was so much surprised, that\n",
      "for the moment she quite forgot how to speak good English); 'now I'm\n",
      "opening out like the largest telescope that ever was! Good-bye, feet!'\n",
      "(for when she looked down at her feet, they seemed to be almost out of\n",
      "sight, they were getting so far off). 'Oh, my poor little feet, I wonder\n",
      "who will put on your shoes and stockings for you now, dears? I'm sure\n",
      "_I_ shan't be able! I shall be a great deal too fa...\n",
      "\n",
      " III. A Caucus-Race and a Long Tale\n",
      "\n",
      "They were indeed a queer-looking party that assembled on the bank--the\n",
      "birds with draggled feathers, the animals with their fur clinging close\n",
      "to them, and all dripping wet, cross, and uncomfortable.\n",
      "\n",
      "The first question of course was, how to get dry again: they had a\n",
      "consultation about this, and after a few minutes it seemed quite natural\n",
      "to Alice to find herself talking familiarly with them, as if she had\n",
      "known them all her life. Indeed, she had quite a long...\n",
      "\n",
      " IV. The Rabbit Sends in a Little Bill\n",
      "\n",
      "It was the White Rabbit, trotting slowly back again, and looking\n",
      "anxiously about as it went, as if it had lost something; and she heard\n",
      "it muttering to itself 'The Duchess! The Duchess! Oh my dear paws! Oh\n",
      "my fur and whiskers! She'll get me executed, as sure as ferrets are\n",
      "ferrets! Where CAN I have dropped them, I wonder?' Alice guessed in a\n",
      "moment that it was looking for the fan and the pair of white kid gloves,\n",
      "and she very good-naturedly began hunting a...\n",
      "\n",
      " V. Advice from a Caterpillar\n",
      "\n",
      "The Caterpillar and Alice looked at each other for some time in silence:\n",
      "at last the Caterpillar took the hookah out of its mouth, and addressed\n",
      "her in a languid, sleepy voice.\n",
      "\n",
      "'Who are YOU?' said the Caterpillar.\n",
      "\n",
      "This was not an encouraging opening for a conversation. Alice replied,\n",
      "rather shyly, 'I--I hardly know, sir, just at present--at least I know\n",
      "who I WAS when I got up this morning, but I think I must have been\n",
      "changed several times since then.'\n",
      "\n",
      "'What do...\n",
      "\n",
      " VI. Pig and Pepper\n",
      "\n",
      "For a minute or two she stood looking at the house, and wondering what\n",
      "to do next, when suddenly a footman in livery came running out of the\n",
      "wood--(she considered him to be a footman because he was in livery:\n",
      "otherwise, judging by his face only, she would have called him a\n",
      "fish)--and rapped loudly at the door with his knuckles. It was opened\n",
      "by another footman in livery, with a round face, and large eyes like a\n",
      "frog; and both footmen, Alice noticed, had powdered hair that cu...\n",
      "\n",
      " VII. A Mad Tea-Party\n",
      "\n",
      "There was a table set out under a tree in front of the house, and the\n",
      "March Hare and the Hatter were having tea at it: a Dormouse was sitting\n",
      "between them, fast asleep, and the other two were using it as a\n",
      "cushion, resting their elbows on it, and talking over its head. 'Very\n",
      "uncomfortable for the Dormouse,' thought Alice; 'only, as it's asleep, I\n",
      "suppose it doesn't mind.'\n",
      "\n",
      "The table was a large one, but the three were all crowded together at\n",
      "one corner of it: 'No room! No ...\n",
      "\n",
      " VIII. The Queen's Croquet-Ground\n",
      "\n",
      "A large rose-tree stood near the entrance of the garden: the roses\n",
      "growing on it were white, but there were three gardeners at it, busily\n",
      "painting them red. Alice thought this a very curious thing, and she went\n",
      "nearer to watch them, and just as she came up to them she heard one of\n",
      "them say, 'Look out now, Five! Don't go splashing paint over me like\n",
      "that!'\n",
      "\n",
      "'I couldn't help it,' said Five, in a sulky tone; 'Seven jogged my\n",
      "elbow.'\n",
      "\n",
      "On which Seven looked up and s...\n",
      "\n",
      " IX. The Mock Turtle's Story\n",
      "\n",
      "'You can't think how glad I am to see you again, you dear old thing!'\n",
      "said the Duchess, as she tucked her arm affectionately into Alice's, and\n",
      "they walked off together.\n",
      "\n",
      "Alice was very glad to find her in such a pleasant temper, and thought\n",
      "to herself that perhaps it was only the pepper that had made her so\n",
      "savage when they met in the kitchen.\n",
      "\n",
      "'When I'M a Duchess,' she said to herself, (not in a very hopeful tone\n",
      "though), 'I won't have any pepper in my kitchen AT A...\n",
      "\n",
      " X. The Lobster Quadrille\n",
      "\n",
      "The Mock Turtle sighed deeply, and drew the back of one flapper across\n",
      "his eyes. He looked at Alice, and tried to speak, but for a minute or\n",
      "two sobs choked his voice. 'Same as if he had a bone in his throat,'\n",
      "said the Gryphon: and it set to work shaking him and punching him in\n",
      "the back. At last the Mock Turtle recovered his voice, and, with tears\n",
      "running down his cheeks, he went on again:--\n",
      "\n",
      "'You may not have lived much under the sea--' ('I haven't,' said\n",
      "Alice)--'and...\n",
      "\n",
      " XI. Who Stole the Tarts?\n",
      "\n",
      "The King and Queen of Hearts were seated on their throne when they\n",
      "arrived, with a great crowd assembled about them--all sorts of little\n",
      "birds and beasts, as well as the whole pack of cards: the Knave was\n",
      "standing before them, in chains, with a soldier on each side to guard\n",
      "him; and near the King was the White Rabbit, with a trumpet in one hand,\n",
      "and a scroll of parchment in the other. In the very middle of the court\n",
      "was a table, with a large dish of tarts upon it: they...\n",
      "\n",
      " XII. Alice's Evidence\n",
      "\n",
      "\n",
      "'Here!' cried Alice, quite forgetting in the flurry of the moment how\n",
      "large she had grown in the last few minutes, and she jumped up in such\n",
      "a hurry that she tipped over the jury-box with the edge of her skirt,\n",
      "upsetting all the jurymen on to the heads of the crowd below, and there\n",
      "they lay sprawling about, reminding her very much of a globe of goldfish\n",
      "she had accidentally upset the week before.\n",
      "\n",
      "'Oh, I BEG your pardon!' she exclaimed in a tone of great dismay, and\n",
      "bega...\n",
      "\n"
     ]
    }
   ],
   "source": [
    "import numpy as np\n",
    "\n",
    "#Open the file where we stored the book \"Alice's Adventures in Wonderland\"\n",
    "#Load data into object text\n",
    "with open('alice.txt', 'r') as file:\n",
    "    text = file.read()\n",
    "\n",
    "#Example of Descriptive Analysis\n",
    "#How many chapters does the book have?\n",
    "#Ignore the first element at index 0 which is the pre-face, \n",
    "#not a chapter. See book structure.\n",
    "chapters = text.split(\"CHAPTER\")[1:]\n",
    "chapter_lengths = [len(ch) for ch in chapters]\n",
    "\n",
    "min_chapter_length = len(min(chapters, key=len))\n",
    "max_chapter_length = len(max(chapters, key=len))\n",
    "\n",
    "avg_chapter_length = sum(chapter_lengths)/len(chapters)\n",
    "#Can use numpy for numeric computations such as mean, standard deviation\n",
    "numpy_avg_chapter_length = np.mean(chapter_lengths)\n",
    "stdev_chapter_length = np.std(chapter_lengths)\n",
    "\n",
    "#?nchapters\n",
    "print(\"Number of chapters: \", len(chapters))\n",
    "print(\"Chapter lengths: \", chapter_lengths)\n",
    "print(\"Min chapter length: \", min_chapter_length)\n",
    "print(\"Max chapter length: \", max_chapter_length)\n",
    "print(\"Avg chapter length: \", avg_chapter_length)\n",
    "print(\"Numpy Avg chapter length: \", numpy_avg_chapter_length)\n",
    "print(\"Deviation from avg chapter length: \", stdev_chapter_length)\n",
    "print(\"Deviation from avg chapter length (%) : \", (stdev_chapter_length*100)/avg_chapter_length, \"%\")\n",
    "\n",
    "\n",
    "for chapter in chapters:\n",
    "    print (chapter[:500] + \"...\\n\")\n"
   ]
  },
  {
   "cell_type": "markdown",
   "metadata": {},
   "source": [
    "# Example of Exploratory Analysis"
   ]
  },
  {
   "cell_type": "code",
   "execution_count": 16,
   "metadata": {},
   "outputs": [
    {
     "name": "stdout",
     "output_type": "stream",
     "text": [
      "Number of sentences:  1744\n",
      "Number of words:  36722\n"
     ]
    },
    {
     "data": {
      "image/png": "[encoded data removed]",
      "text/plain": [
       "<matplotlib.figure.Figure at 0x16dd776ab70>"
      ]
     },
     "metadata": {},
     "output_type": "display_data"
    },
    {
     "data": {
      "image/png": "[encoded data removed]",
      "text/plain": [
       "<matplotlib.figure.Figure at 0x16dd7728320>"
      ]
     },
     "metadata": {},
     "output_type": "display_data"
    },
    {
     "name": "stdout",
     "output_type": "stream",
     "text": [
      "\n",
      "Most frequent top-10 words:  [('said', 462), ('alice', 401), (\"'s\", 205), (\"n't\", 204), (\"'i\", 169), ('little', 128), ('one', 101), ('would', 90), ('know', 88), ('could', 87)]\n"
     ]
    },
    {
     "data": {
      "image/png": "[encoded data removed]",
      "text/plain": [
       "<matplotlib.figure.Figure at 0x16dd7803e10>"
      ]
     },
     "metadata": {},
     "output_type": "display_data"
    },
    {
     "name": "stdout",
     "output_type": "stream",
     "text": [
      "['ï', '¿project', 'gutenberg', \"'s\", 'alice', \"'s\", 'adventures', 'wonderland', 'lewis', 'carroll', 'ebook', 'use', 'anyone', 'anywhere', 'cost', 'almost', 'restrictions', 'whatsoever', 'may', 'copy', 'give', 'away', 're-use', 'terms', 'project', 'gutenberg', 'license', 'included', 'ebook', 'online', 'www.gutenberg.org', 'title', 'alice', \"'s\", 'adventures', 'wonderland', 'author', 'lewis', 'carroll', 'posting', 'date', 'june', '25', '2008', 'ebook', '11', 'release', 'date', 'march', '1994', 'last', 'updated', 'december', '20', '2011', 'language', 'english', 'start', 'project', 'gutenberg', 'ebook', 'alice', \"'s\", 'adventures', 'wonderland', 'alice', \"'s\", 'adventures', 'wonderland', 'lewis', 'carroll', 'millennium', 'fulcrum', 'edition', '3.0', 'chapter', 'rabbit-hole', 'alice', 'beginning', 'get', 'tired', 'sitting', 'sister', 'bank', 'nothing', 'twice', 'peeped', 'book', 'sister', 'reading', 'pictures', 'conversations', \"'and\", 'use', 'book', 'thought', 'alice', \"'without\", 'pictures', 'conversations']\n"
     ]
    }
   ],
   "source": [
    "%matplotlib inline\n",
    "#numpy is a package for numeric computing\n",
    "import numpy as np\n",
    "#nltk is a package for working with text\n",
    "#Also see: http://www.nltk.org/book/\n",
    "#To download ready-to-use nltk datasets run in your shell: python -m nltk.downloader all\n",
    "#You need the nltk.corpus.stopwords.words('english') for this code to run\n",
    "import nltk\n",
    "#matplotlib is for plotting and nice visualisations\n",
    "import matplotlib\n",
    "#Package re is for regualr expressions\n",
    "import re # functions fior dealing with regular expressions\n",
    "\n",
    "#Open the file where we stored the book \"Alice's Adventures in Wonderland\"\n",
    "#Load data into object text\n",
    "with open('alice.txt', 'r') as file:\n",
    "    text = file.read()\n",
    "\n",
    "#Example of Exploratory Analysis\n",
    "#Where in the text do given words occur? (visualisation)\n",
    "#What are the top-20 most frequent words in this book? (summarization)\n",
    "sentences = nltk.sent_tokenize(text)\n",
    "words = nltk.word_tokenize(text)\n",
    "#print(words[:10])\n",
    "print(\"Number of sentences: \", len(sentences))\n",
    "print(\"Number of words: \", len(words))\n",
    "\n",
    "#Turn the text into an nltk object Text\n",
    "alice = nltk.Text(words)\n",
    "#?alice\n",
    "#Where in the text do given words occur? (visualisation)\n",
    "alice.dispersion_plot([\"Alice\", \"Rabbit\", \"Duchess\"])\n",
    "alice.dispersion_plot([\"!\", \"?\"])\n",
    "\n",
    "# Remove all punctuation from word lists - note the use of regular expressions!\n",
    "#\\W Matches any non-alphanumeric character; this is equivalent to the class [^a-zA-Z0-9_].\n",
    "#For more details: https://docs.python.org/3/howto/regex.html\n",
    "alice = [w for w in alice if not (re.match(r'^\\W+$', w) != None)]\n",
    "\n",
    "# Convert all words to lower case\n",
    "alice = [w.lower() for w in alice]\n",
    "\n",
    "# Remove all stop words from word lists\n",
    "alice = [w for w in alice if not w in nltk.corpus.stopwords.words('english')]\n",
    "#print(alice[:10])\n",
    "\n",
    "word_frequency = nltk.FreqDist(alice)\n",
    "# #?word_frequency\n",
    "#What are the top-10 most frequent words in this book?\n",
    "print(\"\\nMost frequent top-10 words: \", word_frequency.most_common(10))\n",
    "word_frequency.plot(10)\n",
    "\n",
    "print(alice[:100])"
   ]
  },
  {
   "cell_type": "markdown",
   "metadata": {},
   "source": [
    "# Practice Exercises"
   ]
  },
  {
   "cell_type": "markdown",
   "metadata": {
    "collapsed": true
   },
   "source": [
    "Practice downloading files from the Internet, doing some preliminary data analysis and extracting new knowledge from them. Below you are given a set of exercises requesting you to download PDF files, extract their text content and do some analysis using the text. You can do this using other types of data of your own interest (e.g., news articles in HTML format). We work with PDF here because many reports are released in PDF format (e.g., http://www.publicpolicy.ie/download-center/downloads-by-theme/) and it is useful to know how to extract their content and work with it with the aim to extract new knowledge.\n",
    "\n",
    "## Problem Setup\n",
    "In February 2016, the Irish General Elections took place. Many of the participating political parties released their political program (aka manifestos) ahead of the election, in PDF formats. At the URL below you can find a sample of such reports. \n",
    "Please do the following:\n",
    "\n",
    "1. For two Irish political parties of your own choice, search and download the files containing their General Elections 2016 political manifesto (i.e., political plan). A few manifestos available online in pdf format are given at this link: [GE16 Party Manifestos](https://drive.google.com/drive/folders/0B0F5ayfFxHc7Y2xBOE5uY1VzSFE?usp=sharing)\n",
    "    \n",
    "2. Extract the text content from the two files, and save it to two different text files on your computer.\n",
    "\n",
    "3. Using the text of each political manifesto, compute and print descriptive statistics: \n",
    "    - print the first 500 characters of the text, \n",
    "    - print the total number of sentences and the shortest and the longest sentence, \n",
    "    - print the total number of words and the ratio of unique words to total number of words, \n",
    "    - print the most frequent 20 words.\n",
    "    \n",
    "4. For each text file containing the political manifesto:\n",
    "    - remove the punctuation from the text, transform all words to lower case and remove the stop words,\n",
    "    - print the first 500 characters of the cleaned text,\n",
    "    - print the top-20 most frequent words in the cleaned text, \n",
    "    - on the cleaned text, use a dispersion plot to show the coverage of different issues in the two manifestos, where the issues are: \"abortion\", \"crime\", \"debt\", \"economy\", \"environment\", \"health\", \"housing\", \"infrastructure\" , \"jobs\", \"tax\".\n",
    "\n",
    "5. Choose two different methods of summarising and contrasting the two political manifestos to give a better understanding of the characteristics and focus of each. Discuss the advantages and disadvantages of the methods proposed."
   ]
  },
  {
   "cell_type": "code",
   "execution_count": 34,
   "metadata": {},
   "outputs": [
    {
     "name": "stdout",
     "output_type": "stream",
     "text": [
      "PBP\n",
      "Sentence count: 1879\n",
      "Biggest sentence: This will be premised upon (a) public ownership of resources, (b) stronger state participation through production sharing and service contracts, and a national oil company, and (c) higher rates of financial returns through increased rates of corporate tax and royalties;\n",
      "4.\n",
      "Shortest sentence: .\n",
      "20 most common words: [('people', 54), ('public', 45), ('health', 36), ('pbp', 32), ('state', 31), ('services', 30), ('profit', 24), ('ireland', 24), ('social', 24), ('irish', 23), ('access', 23), ('education', 20), ('service', 19), ('transport', 18), ('economic', 17), ('right', 17), ('national', 17), ('tax', 16), ('system', 16), ('ensure', 16)]\n"
     ]
    },
    {
     "data": {
      "image/png": "[encoded data removed]",
      "text/plain": [
       "<matplotlib.figure.Figure at 0x16dd8cec358>"
      ]
     },
     "metadata": {},
     "output_type": "display_data"
    },
    {
     "ename": "AttributeError",
     "evalue": "'list' object has no attribute 'nltk'",
     "output_type": "error",
     "traceback": [
      "\u001b[1;31m---------------------------------------------------------------------------\u001b[0m",
      "\u001b[1;31mAttributeError\u001b[0m                            Traceback (most recent call last)",
      "\u001b[1;32m<ipython-input-34-3540e6bf6cdd>\u001b[0m in \u001b[0;36m<module>\u001b[1;34m()\u001b[0m\n\u001b[0;32m     45\u001b[0m         \u001b[0mprint\u001b[0m\u001b[1;33m(\u001b[0m\u001b[1;34m\">\"\u001b[0m\u001b[1;33m)\u001b[0m\u001b[1;33m\u001b[0m\u001b[0m\n\u001b[0;32m     46\u001b[0m \u001b[1;33m\u001b[0m\u001b[0m\n\u001b[1;32m---> 47\u001b[1;33m \u001b[0mmeta_finder\u001b[0m\u001b[1;33m(\u001b[0m\u001b[0mpbp_text\u001b[0m\u001b[1;33m,\u001b[0m \u001b[1;34m\"PBP\"\u001b[0m\u001b[1;33m)\u001b[0m\u001b[1;33m\u001b[0m\u001b[0m\n\u001b[0m\u001b[0;32m     48\u001b[0m \u001b[0mmeta_finder\u001b[0m\u001b[1;33m(\u001b[0m\u001b[0mgreen_text\u001b[0m\u001b[1;33m,\u001b[0m \u001b[1;34m\"GREEN\"\u001b[0m\u001b[1;33m)\u001b[0m\u001b[1;33m\u001b[0m\u001b[0m\n\u001b[0;32m     49\u001b[0m \u001b[1;33m\u001b[0m\u001b[0m\n",
      "\u001b[1;32m<ipython-input-34-3540e6bf6cdd>\u001b[0m in \u001b[0;36mmeta_finder\u001b[1;34m(txt, name)\u001b[0m\n\u001b[0;32m     41\u001b[0m     \u001b[0mprint\u001b[0m \u001b[1;33m(\u001b[0m\u001b[1;34m\"20 most common words:\"\u001b[0m\u001b[1;33m,\u001b[0m \u001b[0mnltk\u001b[0m\u001b[1;33m.\u001b[0m\u001b[0mFreqDist\u001b[0m\u001b[1;33m(\u001b[0m\u001b[0mmanif\u001b[0m\u001b[1;33m)\u001b[0m\u001b[1;33m.\u001b[0m\u001b[0mmost_common\u001b[0m\u001b[1;33m(\u001b[0m\u001b[1;36m20\u001b[0m\u001b[1;33m)\u001b[0m\u001b[1;33m)\u001b[0m\u001b[1;33m\u001b[0m\u001b[0m\n\u001b[0;32m     42\u001b[0m     \u001b[0mnltk\u001b[0m\u001b[1;33m.\u001b[0m\u001b[0mFreqDist\u001b[0m\u001b[1;33m(\u001b[0m\u001b[0mmanif\u001b[0m\u001b[1;33m)\u001b[0m\u001b[1;33m.\u001b[0m\u001b[0mplot\u001b[0m\u001b[1;33m(\u001b[0m\u001b[1;36m20\u001b[0m\u001b[1;33m)\u001b[0m\u001b[1;33m\u001b[0m\u001b[0m\n\u001b[1;32m---> 43\u001b[1;33m     \u001b[0mmanif\u001b[0m\u001b[1;33m.\u001b[0m\u001b[0mnltk\u001b[0m\u001b[1;33m.\u001b[0m\u001b[0mdispersion_plot\u001b[0m\u001b[1;33m(\u001b[0m\u001b[1;34m\"abortion\"\u001b[0m\u001b[1;33m)\u001b[0m\u001b[1;33m\u001b[0m\u001b[0m\n\u001b[0m\u001b[0;32m     44\u001b[0m     \u001b[1;32mfor\u001b[0m \u001b[0mi\u001b[0m \u001b[1;32min\u001b[0m \u001b[0mrange\u001b[0m\u001b[1;33m(\u001b[0m\u001b[1;36m10\u001b[0m\u001b[1;33m)\u001b[0m\u001b[1;33m:\u001b[0m\u001b[1;33m\u001b[0m\u001b[0m\n\u001b[0;32m     45\u001b[0m         \u001b[0mprint\u001b[0m\u001b[1;33m(\u001b[0m\u001b[1;34m\">\"\u001b[0m\u001b[1;33m)\u001b[0m\u001b[1;33m\u001b[0m\u001b[0m\n",
      "\u001b[1;31mAttributeError\u001b[0m: 'list' object has no attribute 'nltk'"
     ]
    }
   ],
   "source": [
    "import numpy as np\n",
    "import nltk\n",
    "import matplotlib\n",
    "import re\n",
    "\n",
    "def string_sorter(mylist):\n",
    "    shorty = mylist[0]\n",
    "    biggie = mylist[0]\n",
    "    for i in mylist:\n",
    "        if len(i) > len(biggie):\n",
    "            biggie = i\n",
    "        elif len(i) < len(shorty):\n",
    "            shorty = i\n",
    "    return (shorty, biggie)\n",
    "\n",
    "with open('green.txt', 'rb') as green:\n",
    "    green_text = green.read().decode('latin-1')\n",
    "\n",
    "with open('pbp.txt', 'rb') as pbp:\n",
    "    pbp_text = pbp.read().decode('latin-1')\n",
    "    \n",
    "def meta_finder(txt, name):\n",
    "    words = nltk.word_tokenize(txt)\n",
    "    sentences = nltk.sent_tokenize(txt)\n",
    "    manif = nltk.Text(words)\n",
    "    print(name)\n",
    "    print(\"Sentence count:\", len(sentences))\n",
    "    short, big = string_sorter(sentences)\n",
    "    print (\"Biggest sentence:\", big)\n",
    "    print (\"Shortest sentence:\", short)\n",
    "    manif = [w for w in manif if not (re.match(r'^\\W+$', w) != None)]\n",
    "    manif = [w.lower() for w in manif]\n",
    "    manif = [w for w in manif if not w in nltk.corpus.stopwords.words('english')]\n",
    "    manif = [w for w in manif if len(w) > 2]\n",
    "#     print(\" \")\n",
    "#     print(\"****************************\")\n",
    "#     print(name, \"TEXT, coded\")\n",
    "#     print(manif[:500])\n",
    "#     print(\"****************************\")\n",
    "#     print(\" \")\n",
    "    print (\"20 most common words:\", nltk.FreqDist(manif).most_common(20))\n",
    "    nltk.FreqDist(manif).plot(20)\n",
    "    manif.nltk.dispersion_plot(\"abortion\")\n",
    "    for i in range(10):\n",
    "        print(\">\")\n",
    "    \n",
    "meta_finder(pbp_text, \"PBP\")\n",
    "meta_finder(green_text, \"GREEN\")\n",
    "    \n",
    "# print(\" \")\n",
    "# print(\"****************************\")\n",
    "# print(\"PBP TEXT\")\n",
    "# print(pbp_text[:500])\n",
    "# print(\"****************************\")\n",
    "# print(\" \")\n",
    "# pbp_sentences = nltk.sent_tokenize(pbp_text)\n",
    "# print(\"Sentence count:\", len(pbp_sentences))\n",
    "# pbp_short, pbp_big = string_sorter(pbp_sentences)\n",
    "# print (\"Biggest sentence:\", pbp_big)\n",
    "# print (\"Shortest sentence:\", pbp_short)\n",
    "\n",
    "# print(\" \")\n",
    "# print(\"****************************\")\n",
    "# print(\"GREEN TEXT\")\n",
    "# print(green_text[:500])\n",
    "# print(\"****************************\")\n",
    "# print(\" \")\n",
    "# green_sentences = nltk.sent_tokenize(green_text)\n",
    "# print(\"Sentence count:\", len(green_sentences))"
   ]
  },
  {
   "cell_type": "code",
   "execution_count": null,
   "metadata": {
    "collapsed": true
   },
   "outputs": [],
   "source": []
  }
 ],
 "metadata": {
  "kernelspec": {
   "display_name": "Python 3",
   "language": "python",
   "name": "python3"
  },
  "language_info": {
   "codemirror_mode": {
    "name": "ipython",
    "version": 3
   },
   "file_extension": ".py",
   "mimetype": "text/x-python",
   "name": "python",
   "nbconvert_exporter": "python",
   "pygments_lexer": "ipython3",
   "version": "3.6.4"
  }
 },
 "nbformat": 4,
 "nbformat_minor": 1
}
